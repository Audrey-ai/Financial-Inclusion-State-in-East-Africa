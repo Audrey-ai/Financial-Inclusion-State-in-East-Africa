{
  "nbformat": 4,
  "nbformat_minor": 0,
  "metadata": {
    "colab": {
      "name": "Core_Week_2_Python_Nttebook_3_2021.ipynb",
      "provenance": [],
      "authorship_tag": "ABX9TyONrPXqY/rrPwkNtzbGRP65",
      "include_colab_link": true
    },
    "kernelspec": {
      "name": "python3",
      "display_name": "Python 3"
    }
  },
  "cells": [
    {
      "cell_type": "markdown",
      "metadata": {
        "id": "view-in-github",
        "colab_type": "text"
      },
      "source": [
        "<a href=\"https://colab.research.google.com/github/Audrey-ai/Financial-Inclusion-State-in-East-Africa/blob/main/Core_Week_2_Python_Nttebook_3_2021.ipynb\" target=\"_parent\"><img src=\"https://colab.research.google.com/assets/colab-badge.svg\" alt=\"Open In Colab\"/></a>"
      ]
    },
    {
      "cell_type": "markdown",
      "metadata": {
        "id": "AbUor2Nvw1zt"
      },
      "source": [
        "\r\n",
        "# 1.Defining the Question"
      ]
    },
    {
      "cell_type": "markdown",
      "metadata": {
        "id": "_lg6FoN2xxQa"
      },
      "source": [
        "### a) Specification of Data Analytical Question\r\n",
        "\r\n",
        "\r\n"
      ]
    },
    {
      "cell_type": "markdown",
      "metadata": {
        "id": "mF8S0F5eyDVr"
      },
      "source": [
        "In regards to financial inclusion in Africa,access to bank accounts has been regarded as an indicator of financial inclusion.\r\n",
        "**The research problem is to figure out how we can predict which individuals are most likely to have or use a bank account**.\r\n",
        "The solution will help provide an indication of the state of financial inclusion in Kenya, Rwanda, Tanzania, and Uganda, while providing insights into some of the key demographic factors that might drive individuals’ financial outcomes."
      ]
    },
    {
      "cell_type": "markdown",
      "metadata": {
        "id": "J4wfHZwQrs-t"
      },
      "source": [
        "### b) Defining the Metric for Success"
      ]
    },
    {
      "cell_type": "markdown",
      "metadata": {
        "id": "CN0NNMAT5S_5"
      },
      "source": [
        "The success criteria for our reasearch will be if we come up with a solution that will help provide an indication of the state of financial inclusion in Kenya, Rwanda, Tanzania, and Uganda, while providing insights into some of the key demographic factors that might drive individuals’ financial outcomes."
      ]
    },
    {
      "cell_type": "markdown",
      "metadata": {
        "id": "a9BPYqunry97"
      },
      "source": [
        "### c) Understanding the context "
      ]
    },
    {
      "cell_type": "markdown",
      "metadata": {
        "id": "T6hISQwA5VVE"
      },
      "source": [
        "Financial Inclusion remains one of the main obstacles to economic and human development in Africa. For example, across Kenya, Rwanda, Tanzania, and Uganda only 9.1 million adults (or 13.9% of the adult population) have access to or use a commercial bank account.\r\n",
        "\r\n",
        "Traditionally, access to bank accounts has been regarded as an indicator of financial inclusion. Despite the proliferation of mobile money in Africa and the growth of innovative fintech solutions, banks still play a pivotal role in facilitating access to financial services. Access to bank accounts enables households to save and facilitate payments while also helping businesses build up their credit-worthiness and improve their access to other financial services. Therefore, access to bank accounts is an essential contributor to long-term economic growth.\r\n",
        "\r\n",
        "The main reason for our project will be to come up with a solution that will help provide an indication of the state of financial inclusion in Kenya, Rwanda, Tanzania, and Uganda, while providing insights into some of the key demographic factors that might drive individuals’ financial outcomes and predict which individuals are likely to have or use a bank account."
      ]
    },
    {
      "cell_type": "markdown",
      "metadata": {
        "id": "7KMRBJ7zr9HD"
      },
      "source": [
        "### d) Recording the Experimental Design"
      ]
    },
    {
      "cell_type": "markdown",
      "metadata": {
        "id": "lkFNtSWH5iPc"
      },
      "source": [
        "Experimental design refers to how participants are allocated to the different conditions in a reaserch or experiment.\r\n",
        "In our reserch our main interest is to find out which individuals are most likely to use or have a bank account and each participant has a unique ID so different participants are used to find out whether one has a bank account or not.\r\n",
        "\r\n",
        "\r\n",
        "In summary,the experimental type used in this research is **Independent measures** as different participants are used each with a unique ID."
      ]
    },
    {
      "cell_type": "markdown",
      "metadata": {
        "id": "zSGyg6kWsBUl"
      },
      "source": [
        "### e) Data Relevance"
      ]
    },
    {
      "cell_type": "markdown",
      "metadata": {
        "id": "ua3aO6ex5m2N"
      },
      "source": [
        "The main dataset contains demographic information and what financial services are used by individuals across East Africa. This data was extracted from various Finscope surveys in Kenya,Uganda,Tanzania and Rwanda ranging from 2016 to 2018.\r\n",
        "\r\n",
        "\r\n",
        "Some of the data variables across the four countries include Access to Mobile Phones,Location,Bank account Ownership, Gender,marital status,Household size of respondents and The relatioship with household age. Most of these variables are very significant for the optimum success of our research on Financial inclusion."
      ]
    },
    {
      "cell_type": "markdown",
      "metadata": {
        "id": "BSN0bO3hWL5h"
      },
      "source": [
        "# 2. Reading the data"
      ]
    },
    {
      "cell_type": "code",
      "metadata": {
        "colab": {
          "base_uri": "https://localhost:8080/",
          "height": 408
        },
        "id": "Y1H0vM2LWchR",
        "outputId": "a718d9de-9791-4e78-c229-8d5df1473fce"
      },
      "source": [
        "# Loading the Data from the source i.e. csv\r\n",
        "# First importing Libraries we will use\r\n",
        "\r\n",
        "import pandas as pd\r\n",
        "import numpy as np\r\n",
        "import matplotlib.pyplot as plt\r\n",
        "import seaborn as sns\r\n",
        "\r\n",
        "#Loading the dataset\r\n",
        "df = pd.read_csv(\"Financial Dataset.csv\")\r\n",
        "\r\n",
        "#Loading and previewing the variable definitions\r\n",
        "VariableDefinitions = pd.read_csv('VariableDefinitions.csv')\r\n",
        "VariableDefinitions"
      ],
      "execution_count": 257,
      "outputs": [
        {
          "output_type": "execute_result",
          "data": {
            "text/html": [
              "<div>\n",
              "<style scoped>\n",
              "    .dataframe tbody tr th:only-of-type {\n",
              "        vertical-align: middle;\n",
              "    }\n",
              "\n",
              "    .dataframe tbody tr th {\n",
              "        vertical-align: top;\n",
              "    }\n",
              "\n",
              "    .dataframe thead th {\n",
              "        text-align: right;\n",
              "    }\n",
              "</style>\n",
              "<table border=\"1\" class=\"dataframe\">\n",
              "  <thead>\n",
              "    <tr style=\"text-align: right;\">\n",
              "      <th></th>\n",
              "      <th>Variable Definitions</th>\n",
              "      <th>Unnamed: 1</th>\n",
              "    </tr>\n",
              "  </thead>\n",
              "  <tbody>\n",
              "    <tr>\n",
              "      <th>0</th>\n",
              "      <td>country</td>\n",
              "      <td>Country interviewee is in.</td>\n",
              "    </tr>\n",
              "    <tr>\n",
              "      <th>1</th>\n",
              "      <td>year</td>\n",
              "      <td>Year survey was done in.</td>\n",
              "    </tr>\n",
              "    <tr>\n",
              "      <th>2</th>\n",
              "      <td>uniqueid</td>\n",
              "      <td>Unique identifier for each interviewee</td>\n",
              "    </tr>\n",
              "    <tr>\n",
              "      <th>3</th>\n",
              "      <td>location_type</td>\n",
              "      <td>Type of location: Rural, Urban</td>\n",
              "    </tr>\n",
              "    <tr>\n",
              "      <th>4</th>\n",
              "      <td>cellphone_access</td>\n",
              "      <td>If interviewee has access to a cellphone: Yes, No</td>\n",
              "    </tr>\n",
              "    <tr>\n",
              "      <th>5</th>\n",
              "      <td>household_size</td>\n",
              "      <td>Number of people living in one house</td>\n",
              "    </tr>\n",
              "    <tr>\n",
              "      <th>6</th>\n",
              "      <td>age_of_respondent</td>\n",
              "      <td>The age of the interviewee</td>\n",
              "    </tr>\n",
              "    <tr>\n",
              "      <th>7</th>\n",
              "      <td>gender_of_respondent</td>\n",
              "      <td>Gender of interviewee: Male, Female</td>\n",
              "    </tr>\n",
              "    <tr>\n",
              "      <th>8</th>\n",
              "      <td>relationship_with_head</td>\n",
              "      <td>The interviewee’s relationship with the head o...</td>\n",
              "    </tr>\n",
              "    <tr>\n",
              "      <th>9</th>\n",
              "      <td>marital_status</td>\n",
              "      <td>The martial status of the interviewee: Married...</td>\n",
              "    </tr>\n",
              "    <tr>\n",
              "      <th>10</th>\n",
              "      <td>education_level</td>\n",
              "      <td>Highest level of education: No formal educatio...</td>\n",
              "    </tr>\n",
              "    <tr>\n",
              "      <th>11</th>\n",
              "      <td>job_type</td>\n",
              "      <td>Type of job interviewee has: Farming and Fishi...</td>\n",
              "    </tr>\n",
              "  </tbody>\n",
              "</table>\n",
              "</div>"
            ],
            "text/plain": [
              "      Variable Definitions                                         Unnamed: 1\n",
              "0                  country                         Country interviewee is in.\n",
              "1                     year                           Year survey was done in.\n",
              "2                 uniqueid             Unique identifier for each interviewee\n",
              "3            location_type                     Type of location: Rural, Urban\n",
              "4         cellphone_access  If interviewee has access to a cellphone: Yes, No\n",
              "5           household_size               Number of people living in one house\n",
              "6        age_of_respondent                         The age of the interviewee\n",
              "7     gender_of_respondent                Gender of interviewee: Male, Female\n",
              "8   relationship_with_head  The interviewee’s relationship with the head o...\n",
              "9           marital_status  The martial status of the interviewee: Married...\n",
              "10         education_level  Highest level of education: No formal educatio...\n",
              "11                job_type  Type of job interviewee has: Farming and Fishi..."
            ]
          },
          "metadata": {
            "tags": []
          },
          "execution_count": 257
        }
      ]
    },
    {
      "cell_type": "markdown",
      "metadata": {
        "id": "OI3P3YnHUEBk"
      },
      "source": [
        "## 3. Checking the Data"
      ]
    },
    {
      "cell_type": "code",
      "metadata": {
        "colab": {
          "base_uri": "https://localhost:8080/"
        },
        "id": "TKUf-ClCZGGz",
        "outputId": "a2151616-72c0-4d51-96e2-ce235eef936d"
      },
      "source": [
        "# Determining the no. of records in our dataset\r\n",
        "df.shape"
      ],
      "execution_count": 258,
      "outputs": [
        {
          "output_type": "execute_result",
          "data": {
            "text/plain": [
              "(23524, 13)"
            ]
          },
          "metadata": {
            "tags": []
          },
          "execution_count": 258
        }
      ]
    },
    {
      "cell_type": "code",
      "metadata": {
        "colab": {
          "base_uri": "https://localhost:8080/",
          "height": 374
        },
        "id": "g1xXQatnZRQa",
        "outputId": "0e9ea69d-6083-4796-ce5e-ea1ae3aa0e81"
      },
      "source": [
        "# Previewing the top of our dataset\r\n",
        "df.head()"
      ],
      "execution_count": 259,
      "outputs": [
        {
          "output_type": "execute_result",
          "data": {
            "text/html": [
              "<div>\n",
              "<style scoped>\n",
              "    .dataframe tbody tr th:only-of-type {\n",
              "        vertical-align: middle;\n",
              "    }\n",
              "\n",
              "    .dataframe tbody tr th {\n",
              "        vertical-align: top;\n",
              "    }\n",
              "\n",
              "    .dataframe thead th {\n",
              "        text-align: right;\n",
              "    }\n",
              "</style>\n",
              "<table border=\"1\" class=\"dataframe\">\n",
              "  <thead>\n",
              "    <tr style=\"text-align: right;\">\n",
              "      <th></th>\n",
              "      <th>country</th>\n",
              "      <th>year</th>\n",
              "      <th>uniqueid</th>\n",
              "      <th>Has a Bank account</th>\n",
              "      <th>Type of Location</th>\n",
              "      <th>Cell Phone Access</th>\n",
              "      <th>household_size</th>\n",
              "      <th>Respondent Age</th>\n",
              "      <th>gender_of_respondent</th>\n",
              "      <th>The relathip with head</th>\n",
              "      <th>marital_status</th>\n",
              "      <th>Level of Educuation</th>\n",
              "      <th>Type of Job</th>\n",
              "    </tr>\n",
              "  </thead>\n",
              "  <tbody>\n",
              "    <tr>\n",
              "      <th>0</th>\n",
              "      <td>Kenya</td>\n",
              "      <td>2018</td>\n",
              "      <td>uniqueid_1</td>\n",
              "      <td>Yes</td>\n",
              "      <td>Rural</td>\n",
              "      <td>Yes</td>\n",
              "      <td>3.0</td>\n",
              "      <td>24.0</td>\n",
              "      <td>Female</td>\n",
              "      <td>Spouse</td>\n",
              "      <td>Married/Living together</td>\n",
              "      <td>Secondary education</td>\n",
              "      <td>Self employed</td>\n",
              "    </tr>\n",
              "    <tr>\n",
              "      <th>1</th>\n",
              "      <td>Kenya</td>\n",
              "      <td>2018</td>\n",
              "      <td>uniqueid_2</td>\n",
              "      <td>No</td>\n",
              "      <td>Rural</td>\n",
              "      <td>No</td>\n",
              "      <td>5.0</td>\n",
              "      <td>70.0</td>\n",
              "      <td>Female</td>\n",
              "      <td>Head of Household</td>\n",
              "      <td>Widowed</td>\n",
              "      <td>No formal education</td>\n",
              "      <td>Government Dependent</td>\n",
              "    </tr>\n",
              "    <tr>\n",
              "      <th>2</th>\n",
              "      <td>Kenya</td>\n",
              "      <td>2018</td>\n",
              "      <td>uniqueid_3</td>\n",
              "      <td>Yes</td>\n",
              "      <td>Urban</td>\n",
              "      <td>Yes</td>\n",
              "      <td>5.0</td>\n",
              "      <td>26.0</td>\n",
              "      <td>Male</td>\n",
              "      <td>Other relative</td>\n",
              "      <td>Single/Never Married</td>\n",
              "      <td>Vocational/Specialised training</td>\n",
              "      <td>Self employed</td>\n",
              "    </tr>\n",
              "    <tr>\n",
              "      <th>3</th>\n",
              "      <td>Kenya</td>\n",
              "      <td>2018</td>\n",
              "      <td>uniqueid_4</td>\n",
              "      <td>No</td>\n",
              "      <td>Rural</td>\n",
              "      <td>Yes</td>\n",
              "      <td>5.0</td>\n",
              "      <td>34.0</td>\n",
              "      <td>Female</td>\n",
              "      <td>Head of Household</td>\n",
              "      <td>Married/Living together</td>\n",
              "      <td>Primary education</td>\n",
              "      <td>Formally employed Private</td>\n",
              "    </tr>\n",
              "    <tr>\n",
              "      <th>4</th>\n",
              "      <td>Kenya</td>\n",
              "      <td>2018</td>\n",
              "      <td>uniqueid_5</td>\n",
              "      <td>No</td>\n",
              "      <td>Urban</td>\n",
              "      <td>No</td>\n",
              "      <td>8.0</td>\n",
              "      <td>26.0</td>\n",
              "      <td>Male</td>\n",
              "      <td>Child</td>\n",
              "      <td>Single/Never Married</td>\n",
              "      <td>Primary education</td>\n",
              "      <td>Informally employed</td>\n",
              "    </tr>\n",
              "  </tbody>\n",
              "</table>\n",
              "</div>"
            ],
            "text/plain": [
              "  country  year  ...              Level of Educuation                Type of Job\n",
              "0   Kenya  2018  ...              Secondary education              Self employed\n",
              "1   Kenya  2018  ...              No formal education       Government Dependent\n",
              "2   Kenya  2018  ...  Vocational/Specialised training              Self employed\n",
              "3   Kenya  2018  ...                Primary education  Formally employed Private\n",
              "4   Kenya  2018  ...                Primary education        Informally employed\n",
              "\n",
              "[5 rows x 13 columns]"
            ]
          },
          "metadata": {
            "tags": []
          },
          "execution_count": 259
        }
      ]
    },
    {
      "cell_type": "code",
      "metadata": {
        "colab": {
          "base_uri": "https://localhost:8080/",
          "height": 356
        },
        "id": "7UBslVCbZX13",
        "outputId": "c1f16303-224b-420a-8fe0-1819eea6b5e8"
      },
      "source": [
        "# Previewing the bottom of our dataset\r\n",
        "df.tail()"
      ],
      "execution_count": 260,
      "outputs": [
        {
          "output_type": "execute_result",
          "data": {
            "text/html": [
              "<div>\n",
              "<style scoped>\n",
              "    .dataframe tbody tr th:only-of-type {\n",
              "        vertical-align: middle;\n",
              "    }\n",
              "\n",
              "    .dataframe tbody tr th {\n",
              "        vertical-align: top;\n",
              "    }\n",
              "\n",
              "    .dataframe thead th {\n",
              "        text-align: right;\n",
              "    }\n",
              "</style>\n",
              "<table border=\"1\" class=\"dataframe\">\n",
              "  <thead>\n",
              "    <tr style=\"text-align: right;\">\n",
              "      <th></th>\n",
              "      <th>country</th>\n",
              "      <th>year</th>\n",
              "      <th>uniqueid</th>\n",
              "      <th>Has a Bank account</th>\n",
              "      <th>Type of Location</th>\n",
              "      <th>Cell Phone Access</th>\n",
              "      <th>household_size</th>\n",
              "      <th>Respondent Age</th>\n",
              "      <th>gender_of_respondent</th>\n",
              "      <th>The relathip with head</th>\n",
              "      <th>marital_status</th>\n",
              "      <th>Level of Educuation</th>\n",
              "      <th>Type of Job</th>\n",
              "    </tr>\n",
              "  </thead>\n",
              "  <tbody>\n",
              "    <tr>\n",
              "      <th>23519</th>\n",
              "      <td>Uganda</td>\n",
              "      <td>2018</td>\n",
              "      <td>uniqueid_2113</td>\n",
              "      <td>No</td>\n",
              "      <td>Rural</td>\n",
              "      <td>Yes</td>\n",
              "      <td>4.0</td>\n",
              "      <td>48.0</td>\n",
              "      <td>Female</td>\n",
              "      <td>Head of Household</td>\n",
              "      <td>Divorced/Seperated</td>\n",
              "      <td>No formal education</td>\n",
              "      <td>Other Income</td>\n",
              "    </tr>\n",
              "    <tr>\n",
              "      <th>23520</th>\n",
              "      <td>Uganda</td>\n",
              "      <td>2018</td>\n",
              "      <td>uniqueid_2114</td>\n",
              "      <td>No</td>\n",
              "      <td>Rural</td>\n",
              "      <td>Yes</td>\n",
              "      <td>2.0</td>\n",
              "      <td>27.0</td>\n",
              "      <td>Female</td>\n",
              "      <td>Head of Household</td>\n",
              "      <td>Single/Never Married</td>\n",
              "      <td>Secondary education</td>\n",
              "      <td>Other Income</td>\n",
              "    </tr>\n",
              "    <tr>\n",
              "      <th>23521</th>\n",
              "      <td>Uganda</td>\n",
              "      <td>2018</td>\n",
              "      <td>uniqueid_2115</td>\n",
              "      <td>No</td>\n",
              "      <td>Rural</td>\n",
              "      <td>Yes</td>\n",
              "      <td>5.0</td>\n",
              "      <td>27.0</td>\n",
              "      <td>Female</td>\n",
              "      <td>Parent</td>\n",
              "      <td>Widowed</td>\n",
              "      <td>Primary education</td>\n",
              "      <td>Other Income</td>\n",
              "    </tr>\n",
              "    <tr>\n",
              "      <th>23522</th>\n",
              "      <td>Uganda</td>\n",
              "      <td>2018</td>\n",
              "      <td>uniqueid_2116</td>\n",
              "      <td>No</td>\n",
              "      <td>Urban</td>\n",
              "      <td>Yes</td>\n",
              "      <td>7.0</td>\n",
              "      <td>30.0</td>\n",
              "      <td>Female</td>\n",
              "      <td>Parent</td>\n",
              "      <td>Divorced/Seperated</td>\n",
              "      <td>Secondary education</td>\n",
              "      <td>Self employed</td>\n",
              "    </tr>\n",
              "    <tr>\n",
              "      <th>23523</th>\n",
              "      <td>Uganda</td>\n",
              "      <td>2018</td>\n",
              "      <td>uniqueid_2117</td>\n",
              "      <td>No</td>\n",
              "      <td>Rural</td>\n",
              "      <td>Yes</td>\n",
              "      <td>10.0</td>\n",
              "      <td>20.0</td>\n",
              "      <td>Male</td>\n",
              "      <td>Child</td>\n",
              "      <td>Single/Never Married</td>\n",
              "      <td>Secondary education</td>\n",
              "      <td>No Income</td>\n",
              "    </tr>\n",
              "  </tbody>\n",
              "</table>\n",
              "</div>"
            ],
            "text/plain": [
              "      country  year  ...  Level of Educuation    Type of Job\n",
              "23519  Uganda  2018  ...  No formal education   Other Income\n",
              "23520  Uganda  2018  ...  Secondary education   Other Income\n",
              "23521  Uganda  2018  ...    Primary education   Other Income\n",
              "23522  Uganda  2018  ...  Secondary education  Self employed\n",
              "23523  Uganda  2018  ...  Secondary education      No Income\n",
              "\n",
              "[5 rows x 13 columns]"
            ]
          },
          "metadata": {
            "tags": []
          },
          "execution_count": 260
        }
      ]
    },
    {
      "cell_type": "code",
      "metadata": {
        "colab": {
          "base_uri": "https://localhost:8080/"
        },
        "id": "ucYPWrWzZqbk",
        "outputId": "89994612-b0cd-4e74-b287-cd46539342b8"
      },
      "source": [
        "# Checking whether each column has an appropriate datatype\r\n",
        "df.dtypes"
      ],
      "execution_count": 261,
      "outputs": [
        {
          "output_type": "execute_result",
          "data": {
            "text/plain": [
              "country                    object\n",
              "year                        int64\n",
              "uniqueid                   object\n",
              "Has a Bank account         object\n",
              "Type of Location           object\n",
              "Cell Phone Access          object\n",
              "household_size            float64\n",
              "Respondent Age            float64\n",
              "gender_of_respondent       object\n",
              "The relathip with head     object\n",
              "marital_status             object\n",
              "Level of Educuation        object\n",
              "Type of Job                object\n",
              "dtype: object"
            ]
          },
          "metadata": {
            "tags": []
          },
          "execution_count": 261
        }
      ]
    },
    {
      "cell_type": "code",
      "metadata": {
        "colab": {
          "base_uri": "https://localhost:8080/"
        },
        "id": "2yXYOtbGZ690",
        "outputId": "deb6d573-f1ed-4350-d2b6-b15a532abfa7"
      },
      "source": [
        "#Checking on the number of unique elements in each columns\r\n",
        "df.nunique()"
      ],
      "execution_count": 262,
      "outputs": [
        {
          "output_type": "execute_result",
          "data": {
            "text/plain": [
              "country                      4\n",
              "year                         6\n",
              "uniqueid                  8735\n",
              "Has a Bank account           2\n",
              "Type of Location             2\n",
              "Cell Phone Access            2\n",
              "household_size              21\n",
              "Respondent Age              85\n",
              "gender_of_respondent         2\n",
              "The relathip with head       6\n",
              "marital_status               5\n",
              "Level of Educuation          7\n",
              "Type of Job                 10\n",
              "dtype: int64"
            ]
          },
          "metadata": {
            "tags": []
          },
          "execution_count": 262
        }
      ]
    },
    {
      "cell_type": "code",
      "metadata": {
        "colab": {
          "base_uri": "https://localhost:8080/"
        },
        "id": "fjHDdnZhaHxn",
        "outputId": "04a1fd2a-e00a-4be5-b56a-f10bbc271a72"
      },
      "source": [
        "#Checking the column information on the data\r\n",
        "df.info()"
      ],
      "execution_count": 263,
      "outputs": [
        {
          "output_type": "stream",
          "text": [
            "<class 'pandas.core.frame.DataFrame'>\n",
            "RangeIndex: 23524 entries, 0 to 23523\n",
            "Data columns (total 13 columns):\n",
            " #   Column                  Non-Null Count  Dtype  \n",
            "---  ------                  --------------  -----  \n",
            " 0   country                 23510 non-null  object \n",
            " 1   year                    23524 non-null  int64  \n",
            " 2   uniqueid                23524 non-null  object \n",
            " 3   Has a Bank account      23488 non-null  object \n",
            " 4   Type of Location        23509 non-null  object \n",
            " 5   Cell Phone Access       23513 non-null  object \n",
            " 6   household_size          23496 non-null  float64\n",
            " 7   Respondent Age          23490 non-null  float64\n",
            " 8   gender_of_respondent    23490 non-null  object \n",
            " 9   The relathip with head  23520 non-null  object \n",
            " 10  marital_status          23492 non-null  object \n",
            " 11  Level of Educuation     23495 non-null  object \n",
            " 12  Type of Job             23494 non-null  object \n",
            "dtypes: float64(2), int64(1), object(10)\n",
            "memory usage: 2.3+ MB\n"
          ],
          "name": "stdout"
        }
      ]
    },
    {
      "cell_type": "markdown",
      "metadata": {
        "id": "ckfufNrcUHeH"
      },
      "source": [
        "## 4. External Data Source Validation"
      ]
    },
    {
      "cell_type": "markdown",
      "metadata": {
        "id": "XNMy0j3sf6ho"
      },
      "source": [
        "The main dataset we are using for this reasearch contains demographic information and what financial services are used by individuals across East Africa. This data was extracted from various Finscope surveys ranging from 2016 to 2018 and on four countries:Kenya,Rwanda,Tanzania,Uganda.\r\n",
        "\r\n",
        "Looking through more information on these surveys the variables in our dataset used to check an financial inclusion are okay however there could be years not part of the range of the survey that is from 2016 to 2018 and there may be null values on countries but as part of the tyding up of the dataset we will sure take care of these two concerns.The concerns shown below:"
      ]
    },
    {
      "cell_type": "code",
      "metadata": {
        "colab": {
          "base_uri": "https://localhost:8080/"
        },
        "id": "Gs_rHo-pmo8v",
        "outputId": "000f10e3-f5fa-40c1-ddd8-2dbf288ce782"
      },
      "source": [
        "#Checking through year ranges of the dataset\r\n",
        "\r\n",
        "df.year.unique()\r\n",
        "\r\n",
        "#Years 2029,2056 and 2039 are out of range but we will take care of this problem while cleaning the dataset"
      ],
      "execution_count": 264,
      "outputs": [
        {
          "output_type": "execute_result",
          "data": {
            "text/plain": [
              "array([2018, 2029, 2056, 2016, 2039, 2017])"
            ]
          },
          "metadata": {
            "tags": []
          },
          "execution_count": 264
        }
      ]
    },
    {
      "cell_type": "code",
      "metadata": {
        "colab": {
          "base_uri": "https://localhost:8080/"
        },
        "id": "F3OvtHp9nE5x",
        "outputId": "1c918812-0107-42ab-95dd-3ba002bba22d"
      },
      "source": [
        "#Checking through the countries\r\n",
        "\r\n",
        "df.country.unique()\r\n",
        "\r\n",
        "#The null country values will be taken care of in data cleaning"
      ],
      "execution_count": 265,
      "outputs": [
        {
          "output_type": "execute_result",
          "data": {
            "text/plain": [
              "array(['Kenya', 'Rwanda', 'Tanzania', nan, 'Uganda'], dtype=object)"
            ]
          },
          "metadata": {
            "tags": []
          },
          "execution_count": 265
        }
      ]
    },
    {
      "cell_type": "markdown",
      "metadata": {
        "id": "FlBMxEDBUc9B"
      },
      "source": [
        "## 5. Tidying the Dataset"
      ]
    },
    {
      "cell_type": "code",
      "metadata": {
        "colab": {
          "base_uri": "https://localhost:8080/",
          "height": 622
        },
        "id": "xxgq3lRAoJO-",
        "outputId": "35d1f9c9-0224-420c-f979-2427d5a4b595"
      },
      "source": [
        "# Checking for Outliers\r\n",
        "\r\n",
        "fig, (ax1,ax2,ax3) = plt.subplots(3,1, figsize=(8,7))\r\n",
        "fig.suptitle('Boxplots')\r\n",
        "sns.boxplot(df['year'], ax=ax1)\r\n",
        "sns.boxplot(df['household_size'], ax=ax2)\r\n",
        "sns.boxplot(df['Respondent Age'], ax=ax3)\r\n",
        "ax1.set_title('Boxplot-year')\r\n",
        "\r\n",
        "plt.show()"
      ],
      "execution_count": 266,
      "outputs": [
        {
          "output_type": "stream",
          "text": [
            "/usr/local/lib/python3.7/dist-packages/seaborn/_decorators.py:43: FutureWarning: Pass the following variable as a keyword arg: x. From version 0.12, the only valid positional argument will be `data`, and passing other arguments without an explicit keyword will result in an error or misinterpretation.\n",
            "  FutureWarning\n",
            "/usr/local/lib/python3.7/dist-packages/seaborn/_decorators.py:43: FutureWarning: Pass the following variable as a keyword arg: x. From version 0.12, the only valid positional argument will be `data`, and passing other arguments without an explicit keyword will result in an error or misinterpretation.\n",
            "  FutureWarning\n",
            "/usr/local/lib/python3.7/dist-packages/seaborn/_decorators.py:43: FutureWarning: Pass the following variable as a keyword arg: x. From version 0.12, the only valid positional argument will be `data`, and passing other arguments without an explicit keyword will result in an error or misinterpretation.\n",
            "  FutureWarning\n"
          ],
          "name": "stderr"
        },
        {
          "output_type": "display_data",
          "data": {
            "image/png": "[encoded data removed]",
            "text/plain": [
              "<Figure size 576x504 with 3 Axes>"
            ]
          },
          "metadata": {
            "tags": [],
            "needs_background": "light"
          }
        }
      ]
    },
    {
      "cell_type": "code",
      "metadata": {
        "colab": {
          "base_uri": "https://localhost:8080/"
        },
        "id": "rUpTZgSKuMGa",
        "outputId": "558358fb-e04d-48fd-df0f-2dc050a68e90"
      },
      "source": [
        "# Checking for Anomalies\r\n",
        "#\r\n",
        "#Checking on year variable\r\n",
        "q1_1, q3_1 = np.percentile(df['year'], [25, 75]) \r\n",
        "iqr1 = q3_1 - q1_1\r\n",
        "l_bound = q1_1 - (1.5*iqr1)\r\n",
        "u_bound = q3_1 + (1.5 * iqr1)\r\n",
        "print(\"year iqr=\",iqr1)\r\n",
        "\r\n",
        "#Checking on household_size variable\r\n",
        "q1_2, q3_2 = np.percentile(df['household_size'], [25, 75]) \r\n",
        "iqr2 = q3_2 - q1_2\r\n",
        "l_bound = q1_2 - (1.5*iqr2)\r\n",
        "u_bound = q3_2 + (1.5 * iqr2)\r\n",
        "print(\"household_size iqr=\",iqr2)\r\n",
        "\r\n",
        "#Checking on Respondent Age\r\n",
        "q1_3, q3_3 = np.percentile(df['household_size'], [25, 75]) \r\n",
        "iqr3 = q3_3 - q1_3\r\n",
        "l_bound = q1_3 - (1.5*iqr2)\r\n",
        "u_bound = q3_3 + (1.5 * iqr3)\r\n",
        "print(\"Respondent Age iqr=\",iqr3)\r\n",
        "\r\n",
        "#there are anomalies on household_size and respondent age variables,after running\r\n",
        "#the data cleaning procedures we will check if the problem is solved"
      ],
      "execution_count": 267,
      "outputs": [
        {
          "output_type": "stream",
          "text": [
            "year iqr= 2.0\n",
            "household_size iqr= nan\n",
            "Respondent Age iqr= nan\n"
          ],
          "name": "stdout"
        }
      ]
    },
    {
      "cell_type": "code",
      "metadata": {
        "colab": {
          "base_uri": "https://localhost:8080/"
        },
        "id": "sX9n832c0uW0",
        "outputId": "37183ee3-91f4-4575-d064-84e84d5cf456"
      },
      "source": [
        "# Identifying the Missing Data\r\n",
        "#\r\n",
        "df.isnull().values.any()"
      ],
      "execution_count": 268,
      "outputs": [
        {
          "output_type": "execute_result",
          "data": {
            "text/plain": [
              "True"
            ]
          },
          "metadata": {
            "tags": []
          },
          "execution_count": 268
        }
      ]
    },
    {
      "cell_type": "code",
      "metadata": {
        "id": "M5S6f4iw2wOC"
      },
      "source": [
        "# Dealing with the Missing Data\r\n",
        "#\r\n",
        "df.isnull().sum()\r\n",
        "\r\n",
        "#Dropping null values\r\n",
        "df.dropna(axis=0,inplace=True)\r\n"
      ],
      "execution_count": 269,
      "outputs": []
    },
    {
      "cell_type": "code",
      "metadata": {
        "colab": {
          "base_uri": "https://localhost:8080/"
        },
        "id": "HviYGEGZ4Fj6",
        "outputId": "bc1b4275-c4e4-430b-9dbd-d705316406fe"
      },
      "source": [
        "## More data cleaning procedures\r\n",
        "#Checking for duplicates\r\n",
        "df.duplicated().any()\r\n"
      ],
      "execution_count": 270,
      "outputs": [
        {
          "output_type": "execute_result",
          "data": {
            "text/plain": [
              "False"
            ]
          },
          "metadata": {
            "tags": []
          },
          "execution_count": 270
        }
      ]
    },
    {
      "cell_type": "code",
      "metadata": {
        "id": "z4qRafOjN4F_"
      },
      "source": [
        "#Renaming Column names\r\n",
        "\r\n",
        "df.rename(columns = {'The relathip with head' : 'The relationship with head', 'Level of Educuation ' : 'Level of Education '}, inplace = True)"
      ],
      "execution_count": 271,
      "outputs": []
    },
    {
      "cell_type": "code",
      "metadata": {
        "colab": {
          "base_uri": "https://localhost:8080/"
        },
        "id": "jzUh7jkZ4Qrm",
        "outputId": "bca9ad08-025d-4412-e084-5f529841f7ee"
      },
      "source": [
        "#Checking on dataset year column information\r\n",
        "\r\n",
        "df.year.unique()\r\n",
        "\r\n",
        "#There are years out of range:2029,2056,2039 that should be removed\r\n",
        "\r\n",
        "df.drop(df[df['year']==2029].index,inplace=True)\r\n",
        "df.drop(df[df['year']==2056].index,inplace=True)\r\n",
        "df.drop(df[df['year']==2039].index,inplace=True)\r\n",
        "\r\n",
        "#Checking on the changes\r\n",
        "df.year.unique()\r\n"
      ],
      "execution_count": 272,
      "outputs": [
        {
          "output_type": "execute_result",
          "data": {
            "text/plain": [
              "array([2018, 2016, 2017])"
            ]
          },
          "metadata": {
            "tags": []
          },
          "execution_count": 272
        }
      ]
    },
    {
      "cell_type": "code",
      "metadata": {
        "colab": {
          "base_uri": "https://localhost:8080/"
        },
        "id": "rnCqmNG-49TL",
        "outputId": "008e2e57-7c4f-44c5-8a69-755a66dd6bad"
      },
      "source": [
        "#Checking the information of our new dataset\r\n",
        "\r\n",
        "df.nunique()"
      ],
      "execution_count": 273,
      "outputs": [
        {
          "output_type": "execute_result",
          "data": {
            "text/plain": [
              "country                          4\n",
              "year                             3\n",
              "uniqueid                      8687\n",
              "Has a Bank account               2\n",
              "Type of Location                 2\n",
              "Cell Phone Access                2\n",
              "household_size                  21\n",
              "Respondent Age                  85\n",
              "gender_of_respondent             2\n",
              "The relationship with head       6\n",
              "marital_status                   5\n",
              "Level of Educuation              7\n",
              "Type of Job                     10\n",
              "dtype: int64"
            ]
          },
          "metadata": {
            "tags": []
          },
          "execution_count": 273
        }
      ]
    },
    {
      "cell_type": "code",
      "metadata": {
        "colab": {
          "base_uri": "https://localhost:8080/"
        },
        "id": "Q2ZVmm_LG1aF",
        "outputId": "75b1b223-94dd-495e-8807-2f6ff12a4a22"
      },
      "source": [
        "# Checking if Anomalies have been dealt with\r\n",
        "#\r\n",
        "#Checking on year variable\r\n",
        "q1_1, q3_1 = np.percentile(df['year'], [25, 75]) \r\n",
        "iqr1 = q3_1 - q1_1\r\n",
        "l_bound = q1_1 - (1.5*iqr1)\r\n",
        "u_bound = q3_1 + (1.5 * iqr1)\r\n",
        "print(\"year iqr=\",iqr1)\r\n",
        "\r\n",
        "#Checking on household_size variable\r\n",
        "q1_2, q3_2 = np.percentile(df['household_size'], [25, 75]) \r\n",
        "iqr2 = q3_2 - q1_2\r\n",
        "l_bound = q1_2 - (1.5*iqr2)\r\n",
        "u_bound = q3_2 + (1.5 * iqr2)\r\n",
        "print(\"household_size iqr=\",iqr2)\r\n",
        "\r\n",
        "#Checking on Respondent Age\r\n",
        "q1_3, q3_3 = np.percentile(df['household_size'], [25, 75]) \r\n",
        "iqr3 = q3_3 - q1_3\r\n",
        "l_bound = q1_3 - (1.5*iqr2)\r\n",
        "u_bound = q3_3 + (1.5 * iqr3)\r\n",
        "print(\"Respondent Age iqr=\",iqr3)\r\n"
      ],
      "execution_count": 274,
      "outputs": [
        {
          "output_type": "stream",
          "text": [
            "year iqr= 2.0\n",
            "household_size iqr= 3.0\n",
            "Respondent Age iqr= 3.0\n"
          ],
          "name": "stdout"
        }
      ]
    },
    {
      "cell_type": "markdown",
      "metadata": {
        "id": "ZvUOryW2Iq8y"
      },
      "source": [
        "# 6.Exploratory Analysis\r\n",
        "\r\n",
        "6.1)Univariate Analysis"
      ]
    },
    {
      "cell_type": "code",
      "metadata": {
        "colab": {
          "base_uri": "https://localhost:8080/",
          "height": 319
        },
        "id": "e6V6wEAuJIFT",
        "outputId": "d6d0a9b9-a76d-450e-de23-40b8f470baf7"
      },
      "source": [
        "#Bar Graph to check on Ownership of Bank Accounts\r\n",
        "\r\n",
        "print(df['Has a Bank account'].value_counts().plot.bar(title='Freq dist of Ownership on Bank Accounts',\r\n",
        "                                                        xlabel='Has a Bank account',ylabel='Frequency'))\r\n",
        "\r\n",
        "#From the bar graph a ,majority of the respondents don't own bank accounts\r\n"
      ],
      "execution_count": 275,
      "outputs": [
        {
          "output_type": "stream",
          "text": [
            "AxesSubplot(0.125,0.125;0.775x0.755)\n"
          ],
          "name": "stdout"
        },
        {
          "output_type": "display_data",
          "data": {
            "image/png": "[encoded data removed]",
            "text/plain": [
              "<Figure size 432x288 with 1 Axes>"
            ]
          },
          "metadata": {
            "tags": [],
            "needs_background": "light"
          }
        }
      ]
    },
    {
      "cell_type": "code",
      "metadata": {
        "colab": {
          "base_uri": "https://localhost:8080/",
          "height": 339
        },
        "id": "XgxirJelkW9Y",
        "outputId": "4dd46e58-675b-47a2-f6a9-398e2a7247bf"
      },
      "source": [
        "#Bar Graph to check on the gender of respondent\r\n",
        "\r\n",
        "print(df['gender_of_respondent'].value_counts().plot.bar(title='Frequency distribution on Gender',\r\n",
        "                                                         xlabel='Gender',ylabel='Frequency'))\r\n",
        "\r\n",
        "#From the bar graph a ,majority of the respondents are female"
      ],
      "execution_count": 276,
      "outputs": [
        {
          "output_type": "stream",
          "text": [
            "AxesSubplot(0.125,0.125;0.775x0.755)\n"
          ],
          "name": "stdout"
        },
        {
          "output_type": "display_data",
          "data": {
            "image/png": "[encoded data removed]",
            "text/plain": [
              "<Figure size 432x288 with 1 Axes>"
            ]
          },
          "metadata": {
            "tags": [],
            "needs_background": "light"
          }
        }
      ]
    },
    {
      "cell_type": "code",
      "metadata": {
        "colab": {
          "base_uri": "https://localhost:8080/",
          "height": 356
        },
        "id": "_iC2446sPoa9",
        "outputId": "c4625fb0-f369-4ed9-ccb8-ba366fd94309"
      },
      "source": [
        "#Checking the Age distribution of the respondents\r\n",
        "\r\n",
        "sns.distplot(df['Respondent Age'], hist=True)\r\n",
        "\r\n",
        "#From the distribution plot, we can see the data on age is positively skewed\r\n",
        "#The peak of the distribution is around 30 years of age from the distribution plot below."
      ],
      "execution_count": 277,
      "outputs": [
        {
          "output_type": "stream",
          "text": [
            "/usr/local/lib/python3.7/dist-packages/seaborn/distributions.py:2557: FutureWarning: `distplot` is a deprecated function and will be removed in a future version. Please adapt your code to use either `displot` (a figure-level function with similar flexibility) or `histplot` (an axes-level function for histograms).\n",
            "  warnings.warn(msg, FutureWarning)\n"
          ],
          "name": "stderr"
        },
        {
          "output_type": "execute_result",
          "data": {
            "text/plain": [
              "<matplotlib.axes._subplots.AxesSubplot at 0x7f5a522f0c90>"
            ]
          },
          "metadata": {
            "tags": []
          },
          "execution_count": 277
        },
        {
          "output_type": "display_data",
          "data": {
            "image/png": "[encoded data removed]",
            "text/plain": [
              "<Figure size 432x288 with 1 Axes>"
            ]
          },
          "metadata": {
            "tags": [],
            "needs_background": "light"
          }
        }
      ]
    },
    {
      "cell_type": "code",
      "metadata": {
        "colab": {
          "base_uri": "https://localhost:8080/",
          "height": 299
        },
        "id": "OBG7rvN4Reg8",
        "outputId": "d2b10898-5d5e-4ff0-a1ad-bdb56a4098f2"
      },
      "source": [
        "#Histogram on Household Size\r\n",
        "#\r\n",
        "df['household_size'].plot.hist(title='Histogram-Household size',xlabel='Household size')\r\n",
        "\r\n",
        "#Majority of households have less than 2 members"
      ],
      "execution_count": 278,
      "outputs": [
        {
          "output_type": "execute_result",
          "data": {
            "text/plain": [
              "<matplotlib.axes._subplots.AxesSubplot at 0x7f5a522a8250>"
            ]
          },
          "metadata": {
            "tags": []
          },
          "execution_count": 278
        },
        {
          "output_type": "display_data",
          "data": {
            "image/png": "[encoded data removed]",
            "text/plain": [
              "<Figure size 432x288 with 1 Axes>"
            ]
          },
          "metadata": {
            "tags": [],
            "needs_background": "light"
          }
        }
      ]
    },
    {
      "cell_type": "code",
      "metadata": {
        "colab": {
          "base_uri": "https://localhost:8080/",
          "height": 443
        },
        "id": "DLf7595YaH6p",
        "outputId": "e67fe4a9-4a20-4030-b421-19732283f9ef"
      },
      "source": [
        "#Bar Graph on Level of Education\r\n",
        "\r\n",
        "df['Level of Educuation'].value_counts().sort_index().plot.bar(title='Bar Grap on Level of Education')\r\n",
        "\r\n",
        "#Majority of the respondents only reached Primary level of \r\n"
      ],
      "execution_count": 279,
      "outputs": [
        {
          "output_type": "execute_result",
          "data": {
            "text/plain": [
              "<matplotlib.axes._subplots.AxesSubplot at 0x7f5a52173790>"
            ]
          },
          "metadata": {
            "tags": []
          },
          "execution_count": 279
        },
        {
          "output_type": "display_data",
          "data": {
            "image/png": "[encoded data removed]",
            "text/plain": [
              "<Figure size 432x288 with 1 Axes>"
            ]
          },
          "metadata": {
            "tags": [],
            "needs_background": "light"
          }
        }
      ]
    },
    {
      "cell_type": "code",
      "metadata": {
        "colab": {
          "base_uri": "https://localhost:8080/",
          "height": 386
        },
        "id": "17mVmERye07d",
        "outputId": "e036dc7d-4826-4ba8-e14f-a3a34cc9bffa"
      },
      "source": [
        "#Line Chart on relationship with household head\r\n",
        "\r\n",
        "df['The relationship with head'].value_counts().sort_index().plot.line(title='Line Chart on relationship with head',rot=90)\r\n",
        "\r\n",
        "#Most of the respondents are the household heads as shown be the below line graph\r\n"
      ],
      "execution_count": 280,
      "outputs": [
        {
          "output_type": "execute_result",
          "data": {
            "text/plain": [
              "<matplotlib.axes._subplots.AxesSubplot at 0x7f5a520e3190>"
            ]
          },
          "metadata": {
            "tags": []
          },
          "execution_count": 280
        },
        {
          "output_type": "display_data",
          "data": {
            "image/png": "[encoded data removed]",
            "text/plain": [
              "<Figure size 432x288 with 1 Axes>"
            ]
          },
          "metadata": {
            "tags": [],
            "needs_background": "light"
          }
        }
      ]
    },
    {
      "cell_type": "code",
      "metadata": {
        "colab": {
          "base_uri": "https://localhost:8080/",
          "height": 407
        },
        "id": "YlojIhT_g8b3",
        "outputId": "bad75afd-7793-4e7e-9a04-dd21ccbcaa39"
      },
      "source": [
        "#Area graph on Marital Status\r\n",
        "\r\n",
        "df['marital_status'].value_counts().sort_index().plot.area(title='Area chart on Marital Status',rot=90)\r\n",
        "\r\n",
        "#Most Respondents are either marred or living together with their partners and \r\n",
        "#Very few dont know their marital status\r\n"
      ],
      "execution_count": 281,
      "outputs": [
        {
          "output_type": "execute_result",
          "data": {
            "text/plain": [
              "<matplotlib.axes._subplots.AxesSubplot at 0x7f5a52055a50>"
            ]
          },
          "metadata": {
            "tags": []
          },
          "execution_count": 281
        },
        {
          "output_type": "display_data",
          "data": {
            "image/png": "[encoded data removed]",
            "text/plain": [
              "<Figure size 432x288 with 1 Axes>"
            ]
          },
          "metadata": {
            "tags": [],
            "needs_background": "light"
          }
        }
      ]
    },
    {
      "cell_type": "code",
      "metadata": {
        "colab": {
          "base_uri": "https://localhost:8080/",
          "height": 319
        },
        "id": "ZT7027WuhvUw",
        "outputId": "a0cee168-353d-472b-a302-2815c89780d5"
      },
      "source": [
        "#Bar Graph to check on Cell phone access by our respondents\r\n",
        "\r\n",
        "print(df['Cell Phone Access'].value_counts().plot.bar(title='Frequency on Cell Phone Access',\r\n",
        "                                                       xlabel='Cell Phone Access',ylabel='Frequency'))\r\n",
        "\r\n",
        "#From the bar graph a ,majority of the respondents have access to mobile phones"
      ],
      "execution_count": 282,
      "outputs": [
        {
          "output_type": "stream",
          "text": [
            "AxesSubplot(0.125,0.125;0.775x0.755)\n"
          ],
          "name": "stdout"
        },
        {
          "output_type": "display_data",
          "data": {
            "image/png": "[encoded data removed]",
            "text/plain": [
              "<Figure size 432x288 with 1 Axes>"
            ]
          },
          "metadata": {
            "tags": [],
            "needs_background": "light"
          }
        }
      ]
    },
    {
      "cell_type": "code",
      "metadata": {
        "colab": {
          "base_uri": "https://localhost:8080/",
          "height": 335
        },
        "id": "ktTOLdExhy7r",
        "outputId": "11e3c204-5e05-4680-92ba-20ec5d0148b6"
      },
      "source": [
        "#Bar Graph to check on Location of our respondents\r\n",
        "\r\n",
        "print(df['Type of Location'].value_counts().plot.bar(title='Frequency on Type of Location',\r\n",
        "                                                     xlabel='Type of Location',ylabel='Frequency'))\r\n",
        "\r\n",
        "#From the bar graph a ,majority of the respondents are in the rural areas \r\n",
        "#which could be part of the reason most don't have bank accounts"
      ],
      "execution_count": 283,
      "outputs": [
        {
          "output_type": "stream",
          "text": [
            "AxesSubplot(0.125,0.125;0.775x0.755)\n"
          ],
          "name": "stdout"
        },
        {
          "output_type": "display_data",
          "data": {
            "image/png": "[encoded data removed]",
            "text/plain": [
              "<Figure size 432x288 with 1 Axes>"
            ]
          },
          "metadata": {
            "tags": [],
            "needs_background": "light"
          }
        }
      ]
    },
    {
      "cell_type": "code",
      "metadata": {
        "colab": {
          "base_uri": "https://localhost:8080/",
          "height": 288
        },
        "id": "xMu46lndh92P",
        "outputId": "47224add-37f1-4db5-e954-7bb8209eeecd"
      },
      "source": [
        "#Descriptive Statistics on year,household_size, Respondent Age variables\r\n",
        "\r\n",
        "df.describe()"
      ],
      "execution_count": 284,
      "outputs": [
        {
          "output_type": "execute_result",
          "data": {
            "text/html": [
              "<div>\n",
              "<style scoped>\n",
              "    .dataframe tbody tr th:only-of-type {\n",
              "        vertical-align: middle;\n",
              "    }\n",
              "\n",
              "    .dataframe tbody tr th {\n",
              "        vertical-align: top;\n",
              "    }\n",
              "\n",
              "    .dataframe thead th {\n",
              "        text-align: right;\n",
              "    }\n",
              "</style>\n",
              "<table border=\"1\" class=\"dataframe\">\n",
              "  <thead>\n",
              "    <tr style=\"text-align: right;\">\n",
              "      <th></th>\n",
              "      <th>year</th>\n",
              "      <th>household_size</th>\n",
              "      <th>Respondent Age</th>\n",
              "    </tr>\n",
              "  </thead>\n",
              "  <tbody>\n",
              "    <tr>\n",
              "      <th>count</th>\n",
              "      <td>23340.000000</td>\n",
              "      <td>23340.000000</td>\n",
              "      <td>23340.000000</td>\n",
              "    </tr>\n",
              "    <tr>\n",
              "      <th>mean</th>\n",
              "      <td>2016.977464</td>\n",
              "      <td>3.688560</td>\n",
              "      <td>38.807069</td>\n",
              "    </tr>\n",
              "    <tr>\n",
              "      <th>std</th>\n",
              "      <td>0.849136</td>\n",
              "      <td>2.281275</td>\n",
              "      <td>16.519905</td>\n",
              "    </tr>\n",
              "    <tr>\n",
              "      <th>min</th>\n",
              "      <td>2016.000000</td>\n",
              "      <td>0.000000</td>\n",
              "      <td>16.000000</td>\n",
              "    </tr>\n",
              "    <tr>\n",
              "      <th>25%</th>\n",
              "      <td>2016.000000</td>\n",
              "      <td>2.000000</td>\n",
              "      <td>26.000000</td>\n",
              "    </tr>\n",
              "    <tr>\n",
              "      <th>50%</th>\n",
              "      <td>2017.000000</td>\n",
              "      <td>3.000000</td>\n",
              "      <td>35.000000</td>\n",
              "    </tr>\n",
              "    <tr>\n",
              "      <th>75%</th>\n",
              "      <td>2018.000000</td>\n",
              "      <td>5.000000</td>\n",
              "      <td>49.000000</td>\n",
              "    </tr>\n",
              "    <tr>\n",
              "      <th>max</th>\n",
              "      <td>2018.000000</td>\n",
              "      <td>21.000000</td>\n",
              "      <td>100.000000</td>\n",
              "    </tr>\n",
              "  </tbody>\n",
              "</table>\n",
              "</div>"
            ],
            "text/plain": [
              "               year  household_size  Respondent Age\n",
              "count  23340.000000    23340.000000    23340.000000\n",
              "mean    2016.977464        3.688560       38.807069\n",
              "std        0.849136        2.281275       16.519905\n",
              "min     2016.000000        0.000000       16.000000\n",
              "25%     2016.000000        2.000000       26.000000\n",
              "50%     2017.000000        3.000000       35.000000\n",
              "75%     2018.000000        5.000000       49.000000\n",
              "max     2018.000000       21.000000      100.000000"
            ]
          },
          "metadata": {
            "tags": []
          },
          "execution_count": 284
        }
      ]
    },
    {
      "cell_type": "markdown",
      "metadata": {
        "id": "nvgt8LRxlD9r"
      },
      "source": [
        "6.2) Bivariate Analysis"
      ]
    },
    {
      "cell_type": "code",
      "metadata": {
        "colab": {
          "base_uri": "https://localhost:8080/",
          "height": 550
        },
        "id": "R6Rw4dadtLU9",
        "outputId": "adb91ae1-e372-4c50-a5e5-f1ca76cc49c9"
      },
      "source": [
        "# Ploting the bivariate summaries and recording our observations\r\n",
        "\r\n",
        "sns.pairplot(df)\r\n",
        "plt.show()"
      ],
      "execution_count": 285,
      "outputs": [
        {
          "output_type": "display_data",
          "data": {
            "image/png": "[encoded data removed]",
            "text/plain": [
              "<Figure size 540x540 with 12 Axes>"
            ]
          },
          "metadata": {
            "tags": [],
            "needs_background": "light"
          }
        }
      ]
    },
    {
      "cell_type": "code",
      "metadata": {
        "colab": {
          "base_uri": "https://localhost:8080/",
          "height": 270
        },
        "id": "mjuf0Xt5yxzo",
        "outputId": "692fe4a0-1424-46f2-e3f6-c59a56cf8fbb"
      },
      "source": [
        "# Plotting heatmap with correlations between our variables \r\n",
        "sns.heatmap(df.corr(),annot=True)\r\n",
        "plt.show()\r\n"
      ],
      "execution_count": 286,
      "outputs": [
        {
          "output_type": "display_data",
          "data": {
            "image/png": "[encoded data removed]",
            "text/plain": [
              "<Figure size 432x288 with 2 Axes>"
            ]
          },
          "metadata": {
            "tags": [],
            "needs_background": "light"
          }
        }
      ]
    },
    {
      "cell_type": "markdown",
      "metadata": {
        "id": "LRbvN3PJzWPy"
      },
      "source": [
        "The three variables(year,household_size,Respondent Age) have a very weak to no correlation with each other as shown in the correlation heamap and the scatter plot shows no relationship as well,there is no trend in th erelationship."
      ]
    },
    {
      "cell_type": "code",
      "metadata": {
        "colab": {
          "base_uri": "https://localhost:8080/",
          "height": 353
        },
        "id": "Vtn13TpttfpY",
        "outputId": "bc936ac2-b0d7-4c2d-f3a5-0f9d835e59bd"
      },
      "source": [
        "#Side by side bar graph on respondents with banks accounts by country\r\n",
        "\r\n",
        "#First grouping the dataframe by the two variables\r\n",
        "df.groupby(['country','Has a Bank account']).count()\r\n",
        "df.groupby(['country','Has a Bank account']).year.count().unstack()\r\n",
        "\r\n",
        "#Plotting our bar graph \r\n",
        "df.groupby(['country','Has a Bank account']).year.count().unstack().plot(kind='bar')\r\n",
        "\r\n",
        "# labels and title\r\n",
        "plt.title('Number of respondents with Bank accounts by country',fontsize=16)\r\n",
        "plt.xlabel('country',fontsize=14)\r\n",
        "plt.ylabel('Number',fontsize=14)\r\n",
        "\r\n",
        "\r\n",
        "#Across all countries most respondents dont have bank accounts\r\n",
        "#Rwanda has the highest number without bank accounts and Kenya highest number with banks accounts"
      ],
      "execution_count": 287,
      "outputs": [
        {
          "output_type": "execute_result",
          "data": {
            "text/plain": [
              "Text(0, 0.5, 'Number')"
            ]
          },
          "metadata": {
            "tags": []
          },
          "execution_count": 287
        },
        {
          "output_type": "display_data",
          "data": {
            "image/png": "[encoded data removed]",
            "text/plain": [
              "<Figure size 432x288 with 1 Axes>"
            ]
          },
          "metadata": {
            "tags": [],
            "needs_background": "light"
          }
        }
      ]
    },
    {
      "cell_type": "code",
      "metadata": {
        "colab": {
          "base_uri": "https://localhost:8080/",
          "height": 353
        },
        "id": "173pmmNTxrDi",
        "outputId": "2d7784e7-3037-4bd7-eca5-c0368ecce9c4"
      },
      "source": [
        "#Stacked bar graph on respondents with access to cell phones by country\r\n",
        "\r\n",
        "#First grouping the dataframe by the two variables\r\n",
        "df.groupby(['country','Cell Phone Access']).count()\r\n",
        "df.groupby(['country','Cell Phone Access']).year.count().unstack()\r\n",
        "\r\n",
        "#Plotting our bar graph \r\n",
        "df.groupby(['country','Cell Phone Access']).year.count().unstack().plot(kind='bar',stacked='True')\r\n",
        "\r\n",
        "# labels and title\r\n",
        "plt.title('Number of respondents with access to cell phones by country',fontsize=16)\r\n",
        "plt.xlabel('country',fontsize=14)\r\n",
        "plt.ylabel('Number',fontsize=14)\r\n",
        "plt.legend(fontsize=12)\r\n",
        "\r\n",
        "\r\n",
        "#Across all countries most respondents have access to cell phones "
      ],
      "execution_count": 288,
      "outputs": [
        {
          "output_type": "execute_result",
          "data": {
            "text/plain": [
              "<matplotlib.legend.Legend at 0x7f5a51b88fd0>"
            ]
          },
          "metadata": {
            "tags": []
          },
          "execution_count": 288
        },
        {
          "output_type": "display_data",
          "data": {
            "image/png": "[encoded data removed]",
            "text/plain": [
              "<Figure size 432x288 with 1 Axes>"
            ]
          },
          "metadata": {
            "tags": [],
            "needs_background": "light"
          }
        }
      ]
    },
    {
      "cell_type": "code",
      "metadata": {
        "colab": {
          "base_uri": "https://localhost:8080/",
          "height": 570
        },
        "id": "UrSkXa25yrvQ",
        "outputId": "e4ed58cd-f1b5-4929-d272-c3540738f70a"
      },
      "source": [
        "#Side by side bar graph on respondents level of education by country\r\n",
        "\r\n",
        "#First grouping the dataframe by the two variables\r\n",
        "df.groupby(['country','Level of Educuation']).count()\r\n",
        "df.groupby(['country','Level of Educuation']).year.count().unstack()\r\n",
        "\r\n",
        "#Plotting our bar graph \r\n",
        "df.groupby(['country','Level of Educuation']).year.count().unstack().plot(kind='bar',figsize=(12,8))\r\n",
        "\r\n",
        "# labels and title\r\n",
        "plt.title('Respondents level of education by country',fontsize=16)\r\n",
        "plt.xlabel('country',fontsize=14)\r\n",
        "plt.ylabel('Number',fontsize=14)\r\n",
        "plt.legend(fontsize=10)\r\n",
        "\r\n",
        "#The primary level of education is the most commone for majority of our respondents\r\n"
      ],
      "execution_count": 289,
      "outputs": [
        {
          "output_type": "execute_result",
          "data": {
            "text/plain": [
              "<matplotlib.legend.Legend at 0x7f5a51b61ed0>"
            ]
          },
          "metadata": {
            "tags": []
          },
          "execution_count": 289
        },
        {
          "output_type": "display_data",
          "data": {
            "image/png": "[encoded data removed]",
            "text/plain": [
              "<Figure size 864x576 with 1 Axes>"
            ]
          },
          "metadata": {
            "tags": [],
            "needs_background": "light"
          }
        }
      ]
    },
    {
      "cell_type": "markdown",
      "metadata": {
        "id": "il4xXbpU0I33"
      },
      "source": [
        "6.3)Multivariate Aanlysis\r\n"
      ]
    },
    {
      "cell_type": "markdown",
      "metadata": {
        "id": "Y_dGYRpE1d4S"
      },
      "source": [
        "6.3.a)Principal Factor Analysis(PCA)"
      ]
    },
    {
      "cell_type": "code",
      "metadata": {
        "colab": {
          "base_uri": "https://localhost:8080/",
          "height": 374
        },
        "id": "3ImagbCx7iYg",
        "outputId": "f1164765-cd19-4a6a-cb90-15c87bc9bacb"
      },
      "source": [
        "#Encoding our variables with 2 categories and creating new columns for the encoded categories of variables of interest\r\n",
        "\r\n",
        "#First converting Location column into a category\r\n",
        "df[\"Type of Location\"] = df[\"Type of Location\"].astype('category')\r\n",
        "df.dtypes\r\n",
        "\r\n",
        "#Then assigning the encoded variable to a new column using the cat.codes access\r\n",
        "df[\"Type of Location-E\"] = df[\"Type of Location\"].cat.codes\r\n",
        "\r\n",
        "#Encoding phone access and gender of respondent columns\r\n",
        "\r\n",
        "df[\"Cell Phone Access\"] = df[\"Cell Phone Access\"].astype('category')\r\n",
        "df[\"Cell Phone Access-E\"] = df[\"Cell Phone Access\"].cat.codes\r\n",
        "\r\n",
        "\r\n",
        "df[\"gender_of_respondent\"] = df[\"gender_of_respondent\"].astype('category')\r\n",
        "df[\"gender_of_respondent-E\"] = df[\"gender_of_respondent\"].cat.codes\r\n",
        "\r\n",
        "\r\n",
        "df.head()"
      ],
      "execution_count": 290,
      "outputs": [
        {
          "output_type": "execute_result",
          "data": {
            "text/html": [
              "<div>\n",
              "<style scoped>\n",
              "    .dataframe tbody tr th:only-of-type {\n",
              "        vertical-align: middle;\n",
              "    }\n",
              "\n",
              "    .dataframe tbody tr th {\n",
              "        vertical-align: top;\n",
              "    }\n",
              "\n",
              "    .dataframe thead th {\n",
              "        text-align: right;\n",
              "    }\n",
              "</style>\n",
              "<table border=\"1\" class=\"dataframe\">\n",
              "  <thead>\n",
              "    <tr style=\"text-align: right;\">\n",
              "      <th></th>\n",
              "      <th>country</th>\n",
              "      <th>year</th>\n",
              "      <th>uniqueid</th>\n",
              "      <th>Has a Bank account</th>\n",
              "      <th>Type of Location</th>\n",
              "      <th>Cell Phone Access</th>\n",
              "      <th>household_size</th>\n",
              "      <th>Respondent Age</th>\n",
              "      <th>gender_of_respondent</th>\n",
              "      <th>The relationship with head</th>\n",
              "      <th>marital_status</th>\n",
              "      <th>Level of Educuation</th>\n",
              "      <th>Type of Job</th>\n",
              "      <th>Type of Location-E</th>\n",
              "      <th>Cell Phone Access-E</th>\n",
              "      <th>gender_of_respondent-E</th>\n",
              "    </tr>\n",
              "  </thead>\n",
              "  <tbody>\n",
              "    <tr>\n",
              "      <th>0</th>\n",
              "      <td>Kenya</td>\n",
              "      <td>2018</td>\n",
              "      <td>uniqueid_1</td>\n",
              "      <td>Yes</td>\n",
              "      <td>Rural</td>\n",
              "      <td>Yes</td>\n",
              "      <td>3.0</td>\n",
              "      <td>24.0</td>\n",
              "      <td>Female</td>\n",
              "      <td>Spouse</td>\n",
              "      <td>Married/Living together</td>\n",
              "      <td>Secondary education</td>\n",
              "      <td>Self employed</td>\n",
              "      <td>0</td>\n",
              "      <td>1</td>\n",
              "      <td>0</td>\n",
              "    </tr>\n",
              "    <tr>\n",
              "      <th>1</th>\n",
              "      <td>Kenya</td>\n",
              "      <td>2018</td>\n",
              "      <td>uniqueid_2</td>\n",
              "      <td>No</td>\n",
              "      <td>Rural</td>\n",
              "      <td>No</td>\n",
              "      <td>5.0</td>\n",
              "      <td>70.0</td>\n",
              "      <td>Female</td>\n",
              "      <td>Head of Household</td>\n",
              "      <td>Widowed</td>\n",
              "      <td>No formal education</td>\n",
              "      <td>Government Dependent</td>\n",
              "      <td>0</td>\n",
              "      <td>0</td>\n",
              "      <td>0</td>\n",
              "    </tr>\n",
              "    <tr>\n",
              "      <th>2</th>\n",
              "      <td>Kenya</td>\n",
              "      <td>2018</td>\n",
              "      <td>uniqueid_3</td>\n",
              "      <td>Yes</td>\n",
              "      <td>Urban</td>\n",
              "      <td>Yes</td>\n",
              "      <td>5.0</td>\n",
              "      <td>26.0</td>\n",
              "      <td>Male</td>\n",
              "      <td>Other relative</td>\n",
              "      <td>Single/Never Married</td>\n",
              "      <td>Vocational/Specialised training</td>\n",
              "      <td>Self employed</td>\n",
              "      <td>1</td>\n",
              "      <td>1</td>\n",
              "      <td>1</td>\n",
              "    </tr>\n",
              "    <tr>\n",
              "      <th>3</th>\n",
              "      <td>Kenya</td>\n",
              "      <td>2018</td>\n",
              "      <td>uniqueid_4</td>\n",
              "      <td>No</td>\n",
              "      <td>Rural</td>\n",
              "      <td>Yes</td>\n",
              "      <td>5.0</td>\n",
              "      <td>34.0</td>\n",
              "      <td>Female</td>\n",
              "      <td>Head of Household</td>\n",
              "      <td>Married/Living together</td>\n",
              "      <td>Primary education</td>\n",
              "      <td>Formally employed Private</td>\n",
              "      <td>0</td>\n",
              "      <td>1</td>\n",
              "      <td>0</td>\n",
              "    </tr>\n",
              "    <tr>\n",
              "      <th>4</th>\n",
              "      <td>Kenya</td>\n",
              "      <td>2018</td>\n",
              "      <td>uniqueid_5</td>\n",
              "      <td>No</td>\n",
              "      <td>Urban</td>\n",
              "      <td>No</td>\n",
              "      <td>8.0</td>\n",
              "      <td>26.0</td>\n",
              "      <td>Male</td>\n",
              "      <td>Child</td>\n",
              "      <td>Single/Never Married</td>\n",
              "      <td>Primary education</td>\n",
              "      <td>Informally employed</td>\n",
              "      <td>1</td>\n",
              "      <td>0</td>\n",
              "      <td>1</td>\n",
              "    </tr>\n",
              "  </tbody>\n",
              "</table>\n",
              "</div>"
            ],
            "text/plain": [
              "  country  year  ... Cell Phone Access-E gender_of_respondent-E\n",
              "0   Kenya  2018  ...                   1                      0\n",
              "1   Kenya  2018  ...                   0                      0\n",
              "2   Kenya  2018  ...                   1                      1\n",
              "3   Kenya  2018  ...                   1                      0\n",
              "4   Kenya  2018  ...                   0                      1\n",
              "\n",
              "[5 rows x 16 columns]"
            ]
          },
          "metadata": {
            "tags": []
          },
          "execution_count": 290
        }
      ]
    },
    {
      "cell_type": "code",
      "metadata": {
        "id": "zGlUnj7nztkY"
      },
      "source": [
        "#Preprocessing\r\n",
        "# \r\n",
        "X = df[['household_size','Respondent Age','Cell Phone Access-E','Type of Location-E',\r\n",
        "        'gender_of_respondent-E']]\r\n",
        "Y = df['Has a Bank account']\r\n"
      ],
      "execution_count": 291,
      "outputs": []
    },
    {
      "cell_type": "code",
      "metadata": {
        "id": "kEHqJAED1Tat"
      },
      "source": [
        "#Splitting the dataset into the Training set and Test set\r\n",
        "\r\n",
        "from sklearn.model_selection import train_test_split\r\n",
        "\r\n",
        "X_train, X_test, Y_train, Y_test = train_test_split(X, Y, test_size=0.2, random_state=0)"
      ],
      "execution_count": 292,
      "outputs": []
    },
    {
      "cell_type": "code",
      "metadata": {
        "id": "0ZjnSzCr18Ot"
      },
      "source": [
        "#Normalization\r\n",
        "\r\n",
        "from sklearn.preprocessing import StandardScaler\r\n",
        "\r\n",
        "sc = StandardScaler()\r\n",
        "X_train = sc.fit_transform(X_train)\r\n",
        "X_test = sc.transform(X_test)"
      ],
      "execution_count": 293,
      "outputs": []
    },
    {
      "cell_type": "code",
      "metadata": {
        "colab": {
          "base_uri": "https://localhost:8080/"
        },
        "id": "LeIozntszDBN",
        "outputId": "5314c011-6ce4-455b-daac-0e453cd1ac32"
      },
      "source": [
        "#Explained Variance Ratio\r\n",
        "\r\n",
        "explained_variance = pca.explained_variance_ratio_\r\n",
        "explained_variance\r\n",
        "\r\n",
        "#It can be seen that first principal component is responsible for 20.22% variance. \r\n",
        "# Similarly, the second principal component causes 19.21% variance in the dataset. \r\n",
        "# Collectively we can say that only 39.43% percent of the classification information contained \r\n",
        "# in the feature set is captured by the first two principal components.\r\n"
      ],
      "execution_count": 294,
      "outputs": [
        {
          "output_type": "execute_result",
          "data": {
            "text/plain": [
              "array([0.2701883])"
            ]
          },
          "metadata": {
            "tags": []
          },
          "execution_count": 294
        }
      ]
    },
    {
      "cell_type": "code",
      "metadata": {
        "id": "IFaGKpkB0MNn"
      },
      "source": [
        "#Using one Principal Component\r\n",
        "\r\n",
        "from sklearn.decomposition import PCA\r\n",
        "\r\n",
        "pca = PCA(n_components=1)\r\n",
        "X_train = pca.fit_transform(X_train)\r\n",
        "X_test = pca.transform(X_test)\r\n"
      ],
      "execution_count": 295,
      "outputs": []
    },
    {
      "cell_type": "code",
      "metadata": {
        "colab": {
          "base_uri": "https://localhost:8080/"
        },
        "id": "v0k1_Y9F05Fm",
        "outputId": "5b58f07e-e6cf-4bd3-d96d-2670a5442435"
      },
      "source": [
        "#Training and Making Predictions\r\n",
        "# \r\n",
        "from sklearn.ensemble import RandomForestClassifier\r\n",
        "\r\n",
        "classifier = RandomForestClassifier(max_depth=2, random_state=0)\r\n",
        "classifier.fit(X_train, Y_train)\r\n",
        "\r\n",
        "# Predicting the Test set results\r\n",
        "y_pred = classifier.predict(X_test)\r\n",
        "y_pred"
      ],
      "execution_count": 296,
      "outputs": [
        {
          "output_type": "execute_result",
          "data": {
            "text/plain": [
              "array(['No', 'No', 'No', ..., 'No', 'No', 'No'], dtype=object)"
            ]
          },
          "metadata": {
            "tags": []
          },
          "execution_count": 296
        }
      ]
    },
    {
      "cell_type": "code",
      "metadata": {
        "colab": {
          "base_uri": "https://localhost:8080/"
        },
        "id": "mLJ5Bj5C1Gz-",
        "outputId": "5af1208d-40ec-4ce4-def4-bf3d824fdf09"
      },
      "source": [
        "#Performance Evaluation\r\n",
        "# \r\n",
        "from sklearn.metrics import confusion_matrix\r\n",
        "from sklearn.metrics import accuracy_score\r\n",
        "\r\n",
        "cm = confusion_matrix(Y_test, y_pred)\r\n",
        "print(cm)\r\n",
        "print('Accuracy' , accuracy_score(Y_test, y_pred))\r\n",
        "\r\n",
        "# Noting that from the output that with only one feature, \r\n",
        "# the random forest algorithm is able to correctly predict 4036 of 4668 instances \r\n",
        "# resulting in 86.46% accuracy."
      ],
      "execution_count": 297,
      "outputs": [
        {
          "output_type": "stream",
          "text": [
            "[[4036    0]\n",
            " [ 632    0]]\n",
            "Accuracy 0.8646101113967438\n"
          ],
          "name": "stdout"
        }
      ]
    },
    {
      "cell_type": "code",
      "metadata": {
        "colab": {
          "base_uri": "https://localhost:8080/"
        },
        "id": "ljkdpuKP7rvm",
        "outputId": "b676c2b4-6be3-4f30-f51f-efce89c12dcc"
      },
      "source": [
        "#Results with Full Feature Set\r\n",
        "#\r\n",
        "X_train, X_test, Y_train, Y_test = train_test_split(X, Y, test_size=0.2, random_state=0)\r\n",
        "\r\n",
        "sc = StandardScaler()\r\n",
        "X_train = sc.fit_transform(X_train)\r\n",
        "X_test = sc.transform(X_test)\r\n",
        "\r\n",
        "X_train = pca.fit_transform(X_train)\r\n",
        "X_test = pca.transform(X_test)\r\n",
        "\r\n",
        "# With all components the classification accuracy should be 86.46%\r\n",
        "classifier = RandomForestClassifier(max_depth=2, random_state=0)\r\n",
        "classifier.fit(X_train, Y_train)"
      ],
      "execution_count": 298,
      "outputs": [
        {
          "output_type": "execute_result",
          "data": {
            "text/plain": [
              "RandomForestClassifier(bootstrap=True, ccp_alpha=0.0, class_weight=None,\n",
              "                       criterion='gini', max_depth=2, max_features='auto',\n",
              "                       max_leaf_nodes=None, max_samples=None,\n",
              "                       min_impurity_decrease=0.0, min_impurity_split=None,\n",
              "                       min_samples_leaf=1, min_samples_split=2,\n",
              "                       min_weight_fraction_leaf=0.0, n_estimators=100,\n",
              "                       n_jobs=None, oob_score=False, random_state=0, verbose=0,\n",
              "                       warm_start=False)"
            ]
          },
          "metadata": {
            "tags": []
          },
          "execution_count": 298
        }
      ]
    },
    {
      "cell_type": "code",
      "metadata": {
        "colab": {
          "base_uri": "https://localhost:8080/"
        },
        "id": "OH31sEzO8UYg",
        "outputId": "870a53bd-5795-4932-b344-d4f7e1f0d80a"
      },
      "source": [
        "# Predicting the Test set results\r\n",
        "y_pred = classifier.predict(X_test)\r\n",
        "\r\n",
        "cm = confusion_matrix(Y_test, y_pred)\r\n",
        "print(cm)\r\n",
        "print('Accuracy' , accuracy_score(Y_test, y_pred))"
      ],
      "execution_count": 299,
      "outputs": [
        {
          "output_type": "stream",
          "text": [
            "[[4036    0]\n",
            " [ 632    0]]\n",
            "Accuracy 0.8646101113967438\n"
          ],
          "name": "stdout"
        }
      ]
    },
    {
      "cell_type": "markdown",
      "metadata": {
        "id": "n3H3IYCP70RG"
      },
      "source": [
        "From the above experimentation we achieved optimal level of accuracy while significantly reducing the number of features in the dataset. We saw that accuracy achieved with only 1 principal component is equal to the accuracy achieved with full feature set i.e. 86.46%. \r\n",
        "Since all the principals components have a significant contribution to achieving a great acuracy all variables in teh dataset are significant."
      ]
    }
  ]
}